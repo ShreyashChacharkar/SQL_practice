{
 "cells": [
  {
   "cell_type": "markdown",
   "metadata": {},
   "source": [
    "## Install important liberies"
   ]
  },
  {
   "cell_type": "markdown",
   "metadata": {},
   "source": [
    "Check \"requirements.txt\" files for required liberies"
   ]
  },
  {
   "cell_type": "markdown",
   "metadata": {},
   "source": [
    "## Import liberies"
   ]
  },
  {
   "cell_type": "code",
   "execution_count": null,
   "metadata": {},
   "outputs": [],
   "source": []
  },
  {
   "cell_type": "code",
   "execution_count": null,
   "metadata": {},
   "outputs": [],
   "source": []
  },
  {
   "cell_type": "code",
   "execution_count": 1,
   "metadata": {},
   "outputs": [],
   "source": [
    "# make class"
   ]
  },
  {
   "cell_type": "code",
   "execution_count": null,
   "metadata": {},
   "outputs": [],
   "source": [
    "class Flipkart:\n",
    "    \n",
    "    def __inti__(self):\n",
    "        #connect to database\n",
    "        self.menu()\n",
    "        \n",
    "    def menu(self):\n",
    "        \n",
    "        user_input = input(\"\"\"\n",
    "        1. Enter 1 to register\n",
    "        2. Enter 2 to login\n",
    "        3. Anything else to leave\n",
    "        \"\"\")\n",
    "        \n",
    "        if user_input == \"1\":\n",
    "            self.register()\n",
    "        elif user_input == \"2\":\n",
    "            self.login()\n",
    "        else:\n",
    "            sys.exit(1000)\n",
    "            \n",
    "    def register(self):\n",
    "        pass"
   ]
  },
  {
   "cell_type": "code",
   "execution_count": null,
   "metadata": {},
   "outputs": [],
   "source": []
  }
 ],
 "metadata": {
  "kernelspec": {
   "display_name": "Python 3",
   "language": "python",
   "name": "python3"
  },
  "language_info": {
   "codemirror_mode": {
    "name": "ipython",
    "version": 3
   },
   "file_extension": ".py",
   "mimetype": "text/x-python",
   "name": "python",
   "nbconvert_exporter": "python",
   "pygments_lexer": "ipython3",
   "version": "3.8.5"
  }
 },
 "nbformat": 4,
 "nbformat_minor": 4
}
