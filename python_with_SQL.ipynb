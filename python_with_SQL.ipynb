{
 "cells": [
  {
   "cell_type": "markdown",
   "metadata": {},
   "source": [
    "## Install important liberies"
   ]
  },
  {
   "cell_type": "markdown",
   "metadata": {},
   "source": [
    "Check \"requirements.txt\" files for required liberies"
   ]
  },
  {
   "cell_type": "markdown",
   "metadata": {},
   "source": [
    "## Import liberies"
   ]
  },
  {
   "cell_type": "code",
   "execution_count": 6,
   "metadata": {},
   "outputs": [],
   "source": [
    "#connector libery\n",
    "import mysql.connector\n",
    "import sys"
   ]
  },
  {
   "cell_type": "markdown",
   "metadata": {},
   "source": [
    "## Building Classes"
   ]
  },
  {
   "cell_type": "code",
   "execution_count": null,
   "metadata": {},
   "outputs": [],
   "source": [
    "## help to connect with database"
   ]
  },
  {
   "cell_type": "code",
   "execution_count": 7,
   "metadata": {},
   "outputs": [],
   "source": [
    "class DBhelper:\n",
    "    def __inti__(self):\n",
    "        try:\n",
    "            self.conn = mysql.connector.connect(host= \"localhost\", user=\"root\", password=\"\", database = \"filpkart_demo\")\n",
    "            self.mycursor = self.conn.cursor()\n",
    "        except:\n",
    "            print(\"Connected to database\")\n",
    "            sys.exit(0)\n",
    "        else:\n",
    "            print(\"Some error occured. Could not connect to database\")\n",
    "         \n",
    "    def  register(self, name, email, passowrd):\n",
    "        try:\n",
    "            self.mycursor.execute(\"\"\"\n",
    "            INSERT INTO 'users ('id','name','email','password') VALUES (NULL, '{}','{}','{}')\n",
    "            \"\"\".format(name, email, password))\n",
    "            self.conn.commit()\n",
    "        except:\n",
    "            return -1\n",
    "        else:\n",
    "            return 1"
   ]
  },
  {
   "cell_type": "code",
   "execution_count": 4,
   "metadata": {},
   "outputs": [],
   "source": [
    "# make class"
   ]
  },
  {
   "cell_type": "code",
   "execution_count": 5,
   "metadata": {},
   "outputs": [],
   "source": [
    "class Flipkart:\n",
    "    \n",
    "    def __inti__(self):\n",
    "        #connect to database\n",
    "        self.db = DBhelper()\n",
    "        self.menu()\n",
    "        \n",
    "    def menu(self):\n",
    "        \n",
    "        user_input = input(\"\"\"\n",
    "        1. Enter 1 to register\n",
    "        2. Enter 2 to login\n",
    "        3. Anything else to leave\n",
    "        \"\"\")\n",
    "        \n",
    "        if user_input == \"1\":\n",
    "            self.register()\n",
    "        elif user_input == \"2\":\n",
    "            self.login()\n",
    "        else:\n",
    "            sys.exit(1000)\n",
    "            \n",
    "    def register(self):\n",
    "        name = input(\"Enter a name\")\n",
    "        email = input(\"Enter a password\")\n",
    "        password = input(\"Enter a password\")\n",
    "        pass"
   ]
  },
  {
   "cell_type": "code",
   "execution_count": null,
   "metadata": {},
   "outputs": [],
   "source": [
    "obj = Filpkart"
   ]
  }
 ],
 "metadata": {
  "kernelspec": {
   "display_name": "Python 3",
   "language": "python",
   "name": "python3"
  },
  "language_info": {
   "codemirror_mode": {
    "name": "ipython",
    "version": 3
   },
   "file_extension": ".py",
   "mimetype": "text/x-python",
   "name": "python",
   "nbconvert_exporter": "python",
   "pygments_lexer": "ipython3",
   "version": "3.8.5"
  }
 },
 "nbformat": 4,
 "nbformat_minor": 4
}
